{
  "nbformat": 4,
  "nbformat_minor": 0,
  "metadata": {
    "colab": {
      "provenance": [],
      "authorship_tag": "ABX9TyPQu+xHOeVpS25f7+Z7noHc",
      "include_colab_link": true
    },
    "kernelspec": {
      "name": "python3",
      "display_name": "Python 3"
    },
    "language_info": {
      "name": "python"
    }
  },
  "cells": [
    {
      "cell_type": "markdown",
      "metadata": {
        "id": "view-in-github",
        "colab_type": "text"
      },
      "source": [
        "<a href=\"https://colab.research.google.com/github/tejaswi194117/Dev-folio/blob/main/sentiment_analysis.ipynb\" target=\"_parent\"><img src=\"https://colab.research.google.com/assets/colab-badge.svg\" alt=\"Open In Colab\"/></a>"
      ]
    },
    {
      "cell_type": "markdown",
      "source": [
        "this below one is for specific chats\n"
      ],
      "metadata": {
        "id": "SQLQTg8S40NL"
      }
    },
    {
      "cell_type": "code",
      "source": [
        "import zipfile\n",
        "import os\n",
        "import re\n",
        "from textblob import TextBlob\n",
        "from collections import Counter\n",
        "import matplotlib.pyplot as plt\n",
        "\n",
        "# Step 1: Unzip the chat file\n",
        "zip_path = '/content/WhatsApp Chat with Meri Jaan.zip'\n",
        "extract_path = '/content/whatsapp_chat/'\n",
        "\n",
        "with zipfile.ZipFile(zip_path, 'r') as zip_ref:\n",
        "    zip_ref.extractall(extract_path)\n",
        "\n",
        "# Step 2: Get extracted .txt file\n",
        "for filename in os.listdir(extract_path):\n",
        "    print(\"Extracted:\", filename)\n",
        "\n",
        "# Update this path if filename is different\n",
        "file_path = '/content/whatsapp_chat/WhatsApp Chat with Meri Jaan.txt'\n",
        "\n",
        "# Step 3: Parse WhatsApp messages\n",
        "def parse_chat(file_path):\n",
        "    with open(file_path, 'r', encoding='utf-8') as file:\n",
        "        chat_lines = file.readlines()\n",
        "\n",
        "    messages = []\n",
        "    pattern = r'^(\\d{1,2}/\\d{1,2}/\\d{2,4}),\\s(\\d{1,2}:\\d{2}\\s[ap]m)\\s-\\s([^:]+):\\s(.+)$'\n",
        "\n",
        "    for line in chat_lines:\n",
        "        match = re.match(pattern, line)\n",
        "        if match:\n",
        "            date, time, sender, message = match.groups()\n",
        "            messages.append({\n",
        "                'date': date,\n",
        "                'time': time,\n",
        "                'sender': sender,\n",
        "                'message': message\n",
        "            })\n",
        "\n",
        "    return messages\n",
        "\n",
        "# Step 4: Analyze the chat\n",
        "def analyze_whatsapp_chat(file_path):\n",
        "    messages = parse_chat(file_path)\n",
        "\n",
        "    if not messages:\n",
        "        print(\"No messages found.\")\n",
        "        return\n",
        "\n",
        "    print(f\"Total messages: {len(messages)}\")\n",
        "\n",
        "    # Count messages per sender\n",
        "    sender_counts = Counter(msg['sender'] for msg in messages)\n",
        "    print(\"\\nTop senders:\")\n",
        "    for sender, count in sender_counts.most_common(5):\n",
        "        print(f\"{sender}: {count} messages\")\n",
        "\n",
        "    # Basic sentiment analysis\n",
        "    sentiments = {'positive': 0, 'neutral': 0, 'negative': 0}\n",
        "\n",
        "    for msg in messages:\n",
        "        blob = TextBlob(msg['message'])\n",
        "        polarity = blob.sentiment.polarity\n",
        "        if polarity > 0.1:\n",
        "            sentiments['positive'] += 1\n",
        "        elif polarity < -0.1:\n",
        "            sentiments['negative'] += 1\n",
        "        else:\n",
        "            sentiments['neutral'] += 1\n",
        "\n",
        "    print(\"\\nSentiment Summary:\")\n",
        "    print(sentiments)\n",
        "\n",
        "    # Plot sentiment pie chart\n",
        "    plt.figure(figsize=(5, 5))\n",
        "    plt.pie(sentiments.values(), labels=sentiments.keys(), autopct='%1.1f%%', colors=['green', 'grey', 'red'])\n",
        "    plt.title('Sentiment Distribution')\n",
        "    plt.show()\n",
        "\n",
        "# Step 5: Run analysis\n",
        "analyze_whatsapp_chat(file_path)\n"
      ],
      "metadata": {
        "id": "cgTxYJdmGUNR",
        "colab": {
          "base_uri": "https://localhost:8080/",
          "height": 600
        },
        "outputId": "8dc68613-82ab-4847-87eb-0dc3a83fc2b7"
      },
      "execution_count": 8,
      "outputs": [
        {
          "output_type": "stream",
          "name": "stdout",
          "text": [
            "Extracted: WhatsApp Chat with Meri Jaan.txt\n",
            "Total messages: 60\n",
            "\n",
            "Top senders:\n",
            "Tejjjj: 39 messages\n",
            "Meri Jaan: 21 messages\n",
            "\n",
            "Sentiment Summary:\n",
            "{'positive': 4, 'neutral': 51, 'negative': 5}\n"
          ]
        },
        {
          "output_type": "display_data",
          "data": {
            "text/plain": [
              "<Figure size 500x500 with 1 Axes>"
            ],
            "image/png": "[encoded data removed]"
          },
          "metadata": {}
        }
      ]
    },
    {
      "cell_type": "code",
      "source": [],
      "metadata": {
        "id": "PfEaPf_lB61C"
      },
      "execution_count": null,
      "outputs": []
    }
  ]
}